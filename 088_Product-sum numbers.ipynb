{
  "nbformat": 4,
  "nbformat_minor": 0,
  "metadata": {
    "colab": {
      "provenance": [],
      "authorship_tag": "ABX9TyPnW9wlpcHA7eMNLQyg7RdO",
      "include_colab_link": true
    },
    "kernelspec": {
      "name": "python3",
      "display_name": "Python 3"
    },
    "language_info": {
      "name": "python"
    }
  },
  "cells": [
    {
      "cell_type": "markdown",
      "metadata": {
        "id": "view-in-github",
        "colab_type": "text"
      },
      "source": [
        "<a href=\"https://colab.research.google.com/github/H34H/ProjectEuler/blob/main/088_Product-sum%20numbers.ipynb\" target=\"_parent\"><img src=\"https://colab.research.google.com/assets/colab-badge.svg\" alt=\"Open In Colab\"/></a>"
      ]
    },
    {
      "cell_type": "code",
      "execution_count": 38,
      "metadata": {
        "colab": {
          "base_uri": "https://localhost:8080/"
        },
        "id": "X74fcPnOxU8k",
        "outputId": "eef2266c-f0b3-4700-d25a-7c14471caa52"
      },
      "outputs": [
        {
          "output_type": "stream",
          "name": "stdout",
          "text": [
            "[2, 2, 3, 7]\n",
            "(2, 2, 3)\n",
            "(2, 3, 7)\n",
            "(2, 2, 7)\n"
          ]
        }
      ],
      "source": [
        "from sympy import factorint\n",
        "import copy\n",
        "import itertools\n",
        "\n",
        "for number in range(84,85):\n",
        "  factors = []\n",
        "  for i, j in factorint(number).items():\n",
        "      for k in range(j):\n",
        "        factors.append(i)\n",
        "  print (factors)\n",
        "  for i in set(itertools.combinations(factors,3)):\n",
        "    print (i)\n",
        "\n",
        "\n",
        "#2*2*3*7\n",
        "#(2*2)*3*7\n",
        "#2*(2*3)*7\n",
        "#2*2*(3*7)\n",
        "#(2*2)*(3*7)\n",
        "#(2*2*3)*7\n",
        "#2*(2*3*7)\n",
        "#3*(2*2*7)"
      ]
    }
  ]
}