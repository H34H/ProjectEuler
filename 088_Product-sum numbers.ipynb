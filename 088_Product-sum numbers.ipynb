{
  "nbformat": 4,
  "nbformat_minor": 0,
  "metadata": {
    "colab": {
      "provenance": [],
      "authorship_tag": "ABX9TyOQOl4nvOChGNeQ3jSRjB96",
      "include_colab_link": true
    },
    "kernelspec": {
      "name": "python3",
      "display_name": "Python 3"
    },
    "language_info": {
      "name": "python"
    }
  },
  "cells": [
    {
      "cell_type": "markdown",
      "metadata": {
        "id": "view-in-github",
        "colab_type": "text"
      },
      "source": [
        "<a href=\"https://colab.research.google.com/github/H34H/ProjectEuler/blob/main/088_Product-sum%20numbers.ipynb\" target=\"_parent\"><img src=\"https://colab.research.google.com/assets/colab-badge.svg\" alt=\"Open In Colab\"/></a>"
      ]
    },
    {
      "cell_type": "code",
      "execution_count": 10,
      "metadata": {
        "colab": {
          "base_uri": "https://localhost:8080/"
        },
        "id": "X74fcPnOxU8k",
        "outputId": "26fcf60c-54e2-4cf3-ae99-4dea9ade6b3e"
      },
      "outputs": [
        {
          "output_type": "stream",
          "name": "stdout",
          "text": [
            " \n"
          ]
        }
      ],
      "source": [
        "from sympy.polys.polytools import factor\n",
        "from sympy import factorint\n",
        "import copy\n",
        "import itertools\n",
        "import math\n",
        "import numpy as np\n",
        "\n",
        "def generateCombinations(numbers):\n",
        "    for x in itertools.combinations(range(len(numbers)),2):\n",
        "      c = tuple(sorted([numbers[x[0]]*numbers[x[1]]]+[y[1] for y in enumerate(numbers) if not(y[0] in x)]))\n",
        "      if c not in productCombinations:\n",
        "        productCombinations.add(c)\n",
        "        if len(c) > 2:\n",
        "          generateCombinations(c)\n",
        "    return\n",
        "\n",
        "\n",
        "numberCombinations = {}\n",
        "for number in range(10**5):\n",
        "  factors = []\n",
        "  productCombinations = set()\n",
        "  for i, j in factorint(number).items():\n",
        "      for k in range(j):\n",
        "        factors.append(i)\n",
        "  productCombinations.add(tuple(factors))\n",
        "  generateCombinations(tuple(factors))\n",
        "  #if number%1000 == 0:\n",
        "  numberCombinations[number] = sorted([x for x in productCombinations if len(x)>1], key=lambda x:sum(x), reverse=True)\n",
        "\n",
        "#[print(k,    v) for k,v in numberCombinations.items() if len(v)>0]\n",
        "print(' ')"
      ]
    },
    {
      "cell_type": "markdown",
      "source": [
        "alle combis gebouwd nu kijken hoe de producten en som te combineren.\n",
        "Per lengte bekijken wat min getal is. voor lengte+1 is LB getal van vorige"
      ],
      "metadata": {
        "id": "BdKQD0jdejfH"
      }
    },
    {
      "cell_type": "code",
      "source": [
        "#[print(k,v) for k,v in numberCombinations.items() if len(v)>0 and k<100]\n",
        "LB = 2\n",
        "k = 4\n",
        "while k <= 4:\n",
        "  for n in range(k, k+6):#max(numberCombinations.keys())):\n",
        "    for combi in numberCombinations[n]:\n",
        "      print(f\"product: {n} sum: {sum(combi)}, combi: {combi}, length: {len(combi)}\")\n",
        "      sumCombi = sum(combi)\n",
        "      if sumCombi <= n:\n",
        "        print ('hooray')\n",
        "        k +=1\n",
        "    pass\n",
        "  k += 1\n",
        ""
      ],
      "metadata": {
        "id": "rGJpgfQDmJwS",
        "outputId": "ff69101e-95ae-454f-b132-c18154ab94e8",
        "colab": {
          "base_uri": "https://localhost:8080/"
        }
      },
      "execution_count": 23,
      "outputs": [
        {
          "output_type": "stream",
          "name": "stdout",
          "text": [
            "product: 4 sum: 4, combi: (2, 2), length: 2\n",
            "hooray\n",
            "product: 6 sum: 5, combi: (2, 3), length: 2\n",
            "hooray\n",
            "product: 8 sum: 6, combi: (2, 4), length: 2\n",
            "hooray\n",
            "product: 8 sum: 6, combi: (2, 2, 2), length: 3\n",
            "hooray\n",
            "product: 9 sum: 6, combi: (3, 3), length: 2\n",
            "hooray\n"
          ]
        }
      ]
    }
  ]
}