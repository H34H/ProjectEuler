{
  "nbformat": 4,
  "nbformat_minor": 0,
  "metadata": {
    "colab": {
      "provenance": [],
      "authorship_tag": "ABX9TyOyuWI9uKt94k4qfvaH1g8U",
      "include_colab_link": true
    },
    "kernelspec": {
      "name": "python3",
      "display_name": "Python 3"
    },
    "language_info": {
      "name": "python"
    }
  },
  "cells": [
    {
      "cell_type": "markdown",
      "metadata": {
        "id": "view-in-github",
        "colab_type": "text"
      },
      "source": [
        "<a href=\"https://colab.research.google.com/github/H34H/ProjectEuler/blob/main/088_Product-sum%20numbers.ipynb\" target=\"_parent\"><img src=\"https://colab.research.google.com/assets/colab-badge.svg\" alt=\"Open In Colab\"/></a>"
      ]
    },
    {
      "cell_type": "code",
      "execution_count": 59,
      "metadata": {
        "colab": {
          "base_uri": "https://localhost:8080/"
        },
        "id": "X74fcPnOxU8k",
        "outputId": "d26daa81-aa7d-4a1d-fcad-ff21cc161b1b"
      },
      "outputs": [
        {
          "output_type": "stream",
          "name": "stdout",
          "text": [
            " \n"
          ]
        }
      ],
      "source": [
        "from sympy.polys.polytools import factor\n",
        "from sympy import factorint\n",
        "import copy\n",
        "import itertools\n",
        "import math\n",
        "import numpy as np\n",
        "\n",
        "def generateCombinations(numbers):\n",
        "    for x in itertools.combinations(range(len(numbers)),2):\n",
        "      c = tuple(sorted([numbers[x[0]]*numbers[x[1]]]+[y[1] for y in enumerate(numbers) if not(y[0] in x)]))\n",
        "      if c not in productCombinations:\n",
        "        productCombinations.add(c)\n",
        "        if len(c) > 2:# and c not in productCombinations:\n",
        "          generateCombinations(c)\n",
        "    return\n",
        "\n",
        "\n",
        "numberCombinations = {}\n",
        "for number in range(10**5):\n",
        "  factors = []\n",
        "  productCombinations = set()\n",
        "  for i, j in factorint(number).items():\n",
        "      for k in range(j):\n",
        "        factors.append(i)\n",
        "  productCombinations.add(tuple(factors))\n",
        "  generateCombinations(tuple(factors))\n",
        "\n",
        "  #if number%1000 == 0:\n",
        "  numberCombinations[number] = [x for x in productCombinations if len(x)>1]\n",
        "\n",
        "#[print(k,v) for k,v in numberCombinations.items() if len(v)>0]\n",
        "print(' ')"
      ]
    },
    {
      "cell_type": "code",
      "source": [],
      "metadata": {
        "id": "rGJpgfQDmJwS"
      },
      "execution_count": null,
      "outputs": []
    }
  ]
}