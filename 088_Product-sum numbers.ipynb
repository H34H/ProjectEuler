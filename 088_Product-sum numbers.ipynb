{
  "nbformat": 4,
  "nbformat_minor": 0,
  "metadata": {
    "colab": {
      "provenance": [],
      "authorship_tag": "ABX9TyO7AHjtAyCuCtMS1Uz9vKSO",
      "include_colab_link": true
    },
    "kernelspec": {
      "name": "python3",
      "display_name": "Python 3"
    },
    "language_info": {
      "name": "python"
    }
  },
  "cells": [
    {
      "cell_type": "markdown",
      "metadata": {
        "id": "view-in-github",
        "colab_type": "text"
      },
      "source": [
        "<a href=\"https://colab.research.google.com/github/H34H/ProjectEuler/blob/main/088_Product-sum%20numbers.ipynb\" target=\"_parent\"><img src=\"https://colab.research.google.com/assets/colab-badge.svg\" alt=\"Open In Colab\"/></a>"
      ]
    },
    {
      "cell_type": "code",
      "execution_count": 88,
      "metadata": {
        "colab": {
          "base_uri": "https://localhost:8080/"
        },
        "id": "X74fcPnOxU8k",
        "outputId": "8284d02f-1053-4fa4-e0d5-e173586d9f8b"
      },
      "outputs": [
        {
          "output_type": "stream",
          "name": "stdout",
          "text": [
            " \n",
            "7587457\n"
          ]
        }
      ],
      "source": [
        "from sympy.polys.polytools import factor\n",
        "from sympy import factorint\n",
        "import copy\n",
        "import itertools\n",
        "from math import inf\n",
        "import numpy as np\n",
        "\n",
        "def generateCombinations(numbers):\n",
        "    for x in itertools.combinations(range(len(numbers)),2):\n",
        "      c = tuple(sorted([numbers[x[0]]*numbers[x[1]]]+[y[1] for y in enumerate(numbers) if not(y[0] in x)]))\n",
        "      if c not in productCombinations:\n",
        "        productCombinations.add(c)\n",
        "        if len(c) > 2:\n",
        "          generateCombinations(c)\n",
        "    return\n",
        "\n",
        "\n",
        "numberCombinations = {}\n",
        "for number in range(2*12000):\n",
        "  factors = []\n",
        "  productCombinations = set()\n",
        "  for i, j in factorint(number).items():\n",
        "      for k in range(j):\n",
        "        factors.append(i)\n",
        "  productCombinations.add(tuple(factors))\n",
        "  generateCombinations(tuple(factors))\n",
        "  numberCombinations[number] = sorted([x for x in productCombinations if len(x)>1], key=lambda x:sum(x), reverse=True)\n",
        "\n",
        "print(' ')\n",
        "k = {}\n",
        "k.setdefault(0,0)\n",
        "for n, combi in numberCombinations.items():\n",
        "    for c in combi:\n",
        "      mink = k.get(len(c)+n-sum(c), inf)\n",
        "      if n < mink:\n",
        "        k[len(c)+n-sum(c)] = n\n",
        "\n",
        "sumK = set()\n",
        "for length in range(2,12001):\n",
        "  sumK.add(k[length])\n",
        "\n",
        "print(sum(sumK))"
      ]
    }
  ]
}