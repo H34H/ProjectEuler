{
  "nbformat": 4,
  "nbformat_minor": 0,
  "metadata": {
    "colab": {
      "provenance": [],
      "authorship_tag": "ABX9TyMgN/bQaVxSHc6EJN6wQH/0",
      "include_colab_link": true
    },
    "kernelspec": {
      "name": "python3",
      "display_name": "Python 3"
    },
    "language_info": {
      "name": "python"
    }
  },
  "cells": [
    {
      "cell_type": "markdown",
      "metadata": {
        "id": "view-in-github",
        "colab_type": "text"
      },
      "source": [
        "<a href=\"https://colab.research.google.com/github/H34H/ProjectEuler/blob/main/0086_Cuboid_Route.ipynb\" target=\"_parent\"><img src=\"https://colab.research.google.com/assets/colab-badge.svg\" alt=\"Open In Colab\"/></a>"
      ]
    },
    {
      "cell_type": "code",
      "execution_count": 32,
      "metadata": {
        "colab": {
          "base_uri": "https://localhost:8080/"
        },
        "id": "pEptSncr-zQZ",
        "outputId": "062f8e03-8a77-4933-f270-1728b38344b1"
      },
      "outputs": [
        {
          "output_type": "stream",
          "name": "stdout",
          "text": [
            "4430\n"
          ]
        }
      ],
      "source": [
        "import math\n",
        "triplets = set()\n",
        "for n in range(1,100):\n",
        "  for m in range (n,100):\n",
        "    a = m**2 - n**2\n",
        "    b = 2 * m * n\n",
        "    #c = m**2 + n**2\n",
        "    if a>0 and b>0 and math.gcd(a,b) == 1:\n",
        "      triplets.add((a,b))\n",
        "\n",
        "kTriplets = set()\n",
        "for k in range(1,1000):\n",
        "  for a,b in triplets:\n",
        "    kTriplets.add((k*a, k*b))\n",
        "#print (list(kTriplets)[:100])\n",
        "\n",
        "cuboidRoute = 0\n",
        "M = 101\n",
        "for x in range (1,M):\n",
        "  for y in range(x,M):\n",
        "    for z in range(y,M):\n",
        "      if (x+y, z) in kTriplets or (z, x+y) in kTriplets or (x+z, y) in kTriplets or (y, x+z) in kTriplets or (x, y+z) in kTriplets or (y+z, x) in kTriplets:\n",
        "        cuboidRoute +=1\n",
        "        #print (x,y,z)\n",
        "\n",
        "print(cuboidRoute)\n",
        "\n",
        "\n",
        "\n"
      ]
    }
  ]
}