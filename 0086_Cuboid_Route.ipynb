{
  "nbformat": 4,
  "nbformat_minor": 0,
  "metadata": {
    "colab": {
      "provenance": [],
      "authorship_tag": "ABX9TyNkpvZubDyNed1g7bcizy4z",
      "include_colab_link": true
    },
    "kernelspec": {
      "name": "python3",
      "display_name": "Python 3"
    },
    "language_info": {
      "name": "python"
    }
  },
  "cells": [
    {
      "cell_type": "markdown",
      "metadata": {
        "id": "view-in-github",
        "colab_type": "text"
      },
      "source": [
        "<a href=\"https://colab.research.google.com/github/H34H/ProjectEuler/blob/main/0086_Cuboid_Route.ipynb\" target=\"_parent\"><img src=\"https://colab.research.google.com/assets/colab-badge.svg\" alt=\"Open In Colab\"/></a>"
      ]
    },
    {
      "cell_type": "code",
      "execution_count": 82,
      "metadata": {
        "colab": {
          "base_uri": "https://localhost:8080/"
        },
        "id": "pEptSncr-zQZ",
        "outputId": "49e09832-92b5-49e4-c608-3cf591b2b2c6"
      },
      "outputs": [
        {
          "output_type": "stream",
          "name": "stdout",
          "text": [
            "331163 0\n"
          ]
        }
      ],
      "source": [
        "import math\n",
        "\n",
        "M = 1001\n",
        "triplets = set()\n",
        "\n",
        "def isSquare(apositiveint):\n",
        "  x = apositiveint // 2\n",
        "  seen = set([x])\n",
        "  while x * x != apositiveint:\n",
        "    x = (x + (apositiveint // x)) // 2\n",
        "    if x in seen: return False\n",
        "    seen.add(x)\n",
        "  return True\n",
        "\n",
        "for n in range(1,M*2):\n",
        "  for m in range (n  ,M*2):\n",
        "    a = m**2 - n**2\n",
        "    b = 2 * m * n\n",
        "    c = m**2 + n**2\n",
        "    if c > math.sqrt((2*M)**2+M**2):\n",
        "      break\n",
        "    if a>0 and b>0 and math.gcd(a,b) == 1:\n",
        "       triplets.add((a,b))\n",
        "\n",
        "kTriplets = set()\n",
        "for k in range(1,M):\n",
        "  for a,b in triplets:\n",
        "    kTriplets.add((k*a, k*b))\n",
        "    #kTriplets.add((k*b, k*a))\n",
        "#print (list(kTriplets)[:100])\n",
        "\n",
        "\n",
        "cuboidRoute = 0\n",
        "candidates = 0\n",
        "\n",
        "for x in range (1,M):\n",
        "  for y in range(x+1,M):\n",
        "    for z in range(y+1,M):\n",
        "      if (x+y, z) in kTriplets or (x+z, y) in kTriplets or (x, y+z) in kTriplets:\n",
        "        cuboidRoute +=1\n",
        "\n",
        "print(cuboidRoute, candidates)\n",
        "\n",
        "\n",
        "\n"
      ]
    }
  ]
}