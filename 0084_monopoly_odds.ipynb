{
  "nbformat": 4,
  "nbformat_minor": 0,
  "metadata": {
    "colab": {
      "provenance": [],
      "authorship_tag": "ABX9TyMmi8wQNDRoGkThJ/11+BbS",
      "include_colab_link": true
    },
    "kernelspec": {
      "name": "python3",
      "display_name": "Python 3"
    },
    "language_info": {
      "name": "python"
    }
  },
  "cells": [
    {
      "cell_type": "markdown",
      "metadata": {
        "id": "view-in-github",
        "colab_type": "text"
      },
      "source": [
        "<a href=\"https://colab.research.google.com/github/H34H/ProjectEuler/blob/main/0084_monopoly_odds.ipynb\" target=\"_parent\"><img src=\"https://colab.research.google.com/assets/colab-badge.svg\" alt=\"Open In Colab\"/></a>"
      ]
    },
    {
      "cell_type": "code",
      "execution_count": 20,
      "metadata": {
        "colab": {
          "base_uri": "https://localhost:8080/"
        },
        "id": "xfKTFJFBCZe2",
        "outputId": "d5738f59-6e38-4745-c25d-e6c28dbb20db"
      },
      "outputs": [
        {
          "output_type": "stream",
          "name": "stdout",
          "text": [
            "[0, 1, 2, 3, 4, 5, 6, 7, 8, 9, 10, 11, 12, 13, 14, 15]\n",
            "[2, 7, 12, 3, 8, 11, 1, 14, 10, 0, 5, 13, 6, 15, 9, 4]\n",
            "0 \t 24690\n",
            "1 \t 25172\n",
            "2 \t 25057\n",
            "3 \t 24800\n",
            "4 \t 25053\n",
            "5 \t 24952\n",
            "6 \t 25184\n",
            "7 \t 25194\n",
            "8 \t 24874\n",
            "9 \t 25039\n",
            "10 \t 24759\n",
            "11 \t 24967\n",
            "12 \t 25169\n",
            "13 \t 25017\n",
            "14 \t 25033\n",
            "15 \t 24966\n",
            "16 \t 24869\n",
            "17 \t 24921\n",
            "18 \t 24937\n",
            "19 \t 24999\n",
            "20 \t 25235\n",
            "21 \t 24846\n",
            "22 \t 25123\n",
            "23 \t 25053\n",
            "24 \t 25012\n",
            "25 \t 25001\n",
            "26 \t 24976\n",
            "27 \t 24805\n",
            "28 \t 25191\n",
            "29 \t 25004\n",
            "30 \t 24945\n",
            "31 \t 24845\n",
            "32 \t 25141\n",
            "33 \t 25133\n",
            "34 \t 24869\n",
            "35 \t 25039\n",
            "36 \t 25112\n",
            "37 \t 25046\n",
            "38 \t 24915\n",
            "39 \t 25057\n",
            "0:00:00.991787\n"
          ]
        }
      ],
      "source": [
        "import datetime\n",
        "import os\n",
        "from math import inf, lcm, log10, sqrt\n",
        "from collections import Counter\n",
        "\n",
        "import random\n",
        "time = datetime.datetime.now()\n",
        "\n",
        "board = {0:'GO',1:'A1',2:'CC1',3:'A2',4:'T1',5:'R1',6:'B1',7:'CH1',8:'B2',9:'B3',10:'JAIL',11:'C1',12:'U1',13:'C2',14:'C3',15:'R2',16:'D1',17:'CC2',18:'D2',19:'D3',20:'FP',21:'E1',22:'CH2',23:'E2',24:'E3',25:'R3',26:'F1',27:'F2',28:'U2',29:'F3',30:'G2J',31:'G1',32:'G2 ',33:'CC3',34:'G3',35:'R4',36:'CH3',37:'H1',38:'T2',39:'H2'\n",
        "}\n",
        "communityChest = {1:'Advance to GO', 2:'Go to JAIL'}\n",
        "communityChestOrder = list(range(16))\n",
        "chance = {1:'Advance to GO',2:'Go to JAIL',3:'Go to C1',4:'Go to E3',5:'Go to H2',6:'Go to R1',7:'Go to next R',8:'Go to next R',9:'Go to next U',10:'Go back 3 squares'}\n",
        "chanceOrder = list(range(16))\n",
        "\n",
        "def nextMove(currentPos, instruction):\n",
        "    if instruction == 'Advance to GO':\n",
        "        return 1\n",
        "    elif instruction == 'Go to JAIL':\n",
        "        return 11\n",
        "    elif instruction == 'Go to E3':\n",
        "        return 25\n",
        "    elif instruction == 'Go to H2':\n",
        "        return 39\n",
        "    elif instruction == 'Go to R1':\n",
        "        return 6\n",
        "    elif instruction == 'Go to next R':\n",
        "        return (((currentPos+5)//10)*10+5)%40\n",
        "    elif instruction == 'Go to next U':\n",
        "        if currentPos > 12 and currentPos < 28:\n",
        "            return 28\n",
        "        else:\n",
        "            return 12\n",
        "    elif instruction == 'Go back 3 squares':\n",
        "        return (currentPos-3)%40\n",
        "\n",
        "def throwDice():\n",
        "  return int(random.random()*6+1)\n",
        "\n",
        "print(chanceOrder)\n",
        "random.shuffle(chanceOrder)\n",
        "random.shuffle(communityChestOrder)\n",
        "print (communityChestOrder)\n",
        "\n",
        "position = 0\n",
        "stats = Counter()\n",
        "\n",
        "for i in range(10**6):\n",
        "    position = (position + throwDice() + throwDice())%40\n",
        "    stats[position] += 1\n",
        "\n",
        "\n",
        "[print(k, '\\t', v) for k,v in sorted(stats.items())]\n",
        "\n",
        "runtime  = datetime.datetime.now() - time\n",
        "print (runtime)\n"
      ]
    },
    {
      "cell_type": "markdown",
      "source": [],
      "metadata": {
        "id": "KGMJSvPbChIn"
      }
    }
  ]
}