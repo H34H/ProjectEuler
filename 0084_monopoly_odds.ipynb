{
  "nbformat": 4,
  "nbformat_minor": 0,
  "metadata": {
    "colab": {
      "provenance": [],
      "authorship_tag": "ABX9TyOb3Vb+JJ6tz2cSQPIESaS1",
      "include_colab_link": true
    },
    "kernelspec": {
      "name": "python3",
      "display_name": "Python 3"
    },
    "language_info": {
      "name": "python"
    }
  },
  "cells": [
    {
      "cell_type": "markdown",
      "metadata": {
        "id": "view-in-github",
        "colab_type": "text"
      },
      "source": [
        "<a href=\"https://colab.research.google.com/github/H34H/ProjectEuler/blob/main/0084_monopoly_odds.ipynb\" target=\"_parent\"><img src=\"https://colab.research.google.com/assets/colab-badge.svg\" alt=\"Open In Colab\"/></a>"
      ]
    },
    {
      "cell_type": "code",
      "execution_count": 30,
      "metadata": {
        "colab": {
          "base_uri": "https://localhost:8080/",
          "height": 279
        },
        "id": "xfKTFJFBCZe2",
        "outputId": "3cbb54d5-b81a-4165-9488-79a4547087ab"
      },
      "outputs": [
        {
          "output_type": "stream",
          "name": "stdout",
          "text": [
            "[0, 1, 2, 3, 4, 5, 6, 7, 8, 9, 10, 11, 12, 13, 14, 15]\n",
            "[5, 2, 7, 8, 4, 11, 9, 0, 15, 12, 14, 1, 13, 3, 10, 6]\n"
          ]
        },
        {
          "output_type": "error",
          "ename": "KeyError",
          "evalue": "ignored",
          "traceback": [
            "\u001b[0;31m---------------------------------------------------------------------------\u001b[0m",
            "\u001b[0;31mKeyError\u001b[0m                                  Traceback (most recent call last)",
            "\u001b[0;32m<ipython-input-30-cc470bd346fc>\u001b[0m in \u001b[0;36m<cell line: 54>\u001b[0;34m()\u001b[0m\n\u001b[1;32m     57\u001b[0m     \u001b[0;32mif\u001b[0m \u001b[0mposition\u001b[0m \u001b[0;32min\u001b[0m \u001b[0mchance\u001b[0m\u001b[0;34m:\u001b[0m\u001b[0;34m\u001b[0m\u001b[0;34m\u001b[0m\u001b[0m\n\u001b[1;32m     58\u001b[0m       \u001b[0;31m#try:\u001b[0m\u001b[0;34m\u001b[0m\u001b[0;34m\u001b[0m\u001b[0m\n\u001b[0;32m---> 59\u001b[0;31m       \u001b[0mposition\u001b[0m \u001b[0;34m=\u001b[0m \u001b[0mnextMove\u001b[0m\u001b[0;34m(\u001b[0m\u001b[0mposition\u001b[0m\u001b[0;34m,\u001b[0m \u001b[0mchance\u001b[0m\u001b[0;34m[\u001b[0m\u001b[0mchanceCardNr\u001b[0m\u001b[0;34m]\u001b[0m\u001b[0;34m)\u001b[0m\u001b[0;34m\u001b[0m\u001b[0;34m\u001b[0m\u001b[0m\n\u001b[0m\u001b[1;32m     60\u001b[0m       \u001b[0mchanceCardNr\u001b[0m \u001b[0;34m+=\u001b[0m\u001b[0;36m1\u001b[0m\u001b[0;34m\u001b[0m\u001b[0;34m\u001b[0m\u001b[0m\n\u001b[1;32m     61\u001b[0m       \u001b[0;31m#except KeyError:\u001b[0m\u001b[0;34m\u001b[0m\u001b[0;34m\u001b[0m\u001b[0m\n",
            "\u001b[0;31mKeyError\u001b[0m: 10"
          ]
        }
      ],
      "source": [
        "import datetime\n",
        "import os\n",
        "from math import inf, lcm, log10, sqrt\n",
        "from collections import Counter\n",
        "\n",
        "import random\n",
        "time = datetime.datetime.now()\n",
        "\n",
        "board = {0:'GO',1:'A1',2:'CC1',3:'A2',4:'T1',5:'R1',6:'B1',7:'CH1',8:'B2',9:'B3',10:'JAIL',11:'C1',12:'U1',13:'C2',14:'C3',15:'R2',16:'D1',17:'CC2',18:'D2',19:'D3',20:'FP',21:'E1',22:'CH2',23:'E2',24:'E3',25:'R3',26:'F1',27:'F2',28:'U2',29:'F3',30:'G2J',31:'G1',32:'G2 ',33:'CC3',34:'G3',35:'R4',36:'CH3',37:'H1',38:'T2',39:'H2'\n",
        "}\n",
        "communityChest = {1:'Advance to GO', 0:'Go to JAIL'}\n",
        "communityChest.setdefault(, \"Do nothing\")\n",
        "communityChestOrder = list(range(16))\n",
        "chance = {1:'Advance to GO',2:'Go to JAIL',3:'Go to C1',4:'Go to E3',5:'Go to H2',6:'Go to R1',7:'Go to next R',8:'Go to next R',9:'Go to next U',0:'Go back 3 squares'}\n",
        "chance.setdefault(-1, \"Do nothing\")\n",
        "chanceOrder = list(range(16))\n",
        "\n",
        "def nextMove(currentPos, instruction):\n",
        "    if instruction == 'Advance to GO':\n",
        "        return 1\n",
        "    elif instruction == 'Go to JAIL':\n",
        "        return 11\n",
        "    elif instruction == 'Go to E3':\n",
        "        return 25\n",
        "    elif instruction == 'Go to H2':\n",
        "        return 39\n",
        "    elif instruction == 'Go to R1':\n",
        "        return 6\n",
        "    elif instruction == 'Go to next R':\n",
        "        return (((currentPos+5)//10)*10+5)%40\n",
        "    elif instruction == 'Go to next U':\n",
        "        if currentPos > 12 and currentPos < 28:\n",
        "            return 28\n",
        "        else:\n",
        "            return 12\n",
        "    elif instruction == 'Go back 3 squares':\n",
        "        return (currentPos-3)%40\n",
        "    else:\n",
        "      return currentPos\n",
        "\n",
        "def throwDice():\n",
        "  return int(random.random()*6+1)\n",
        "\n",
        "print(chanceOrder)\n",
        "random.shuffle(chanceOrder)\n",
        "random.shuffle(communityChestOrder)\n",
        "print (communityChestOrder)\n",
        "\n",
        "position = 0\n",
        "stats = Counter()\n",
        "chanceCardNr = 0\n",
        "communityChestCardnr = 0\n",
        "\n",
        "for i in range(10**6):\n",
        "    position = (position + throwDice() + throwDice())%40\n",
        "    stats[position] += 1\n",
        "    if position in chance:\n",
        "      #try:\n",
        "      position = nextMove(position, chance[chanceCardNr])\n",
        "      chanceCardNr +=1\n",
        "      #except KeyError:\n",
        "      #  pass\n",
        "    if position in communityChest:\n",
        "      #try:\n",
        "      position = nextMove(position, communityChest[communityChestCardnr])\n",
        "      chanceCardNr +=1\n",
        "      #except KeyError:\n",
        "      #  pass\n",
        "\n",
        "[print(f\"{k} \\t {v/sum(stats.values()):.2%}\") for k,v in sorted(stats.items())]\n",
        "\n",
        "runtime  = datetime.datetime.now() - time\n",
        "print (runtime)\n"
      ]
    },
    {
      "cell_type": "markdown",
      "source": [],
      "metadata": {
        "id": "KGMJSvPbChIn"
      }
    }
  ]
}