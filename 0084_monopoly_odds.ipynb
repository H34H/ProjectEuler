{
  "nbformat": 4,
  "nbformat_minor": 0,
  "metadata": {
    "colab": {
      "provenance": [],
      "authorship_tag": "ABX9TyMH7+Kqc1q6DYfCd8qq6XCG",
      "include_colab_link": true
    },
    "kernelspec": {
      "name": "python3",
      "display_name": "Python 3"
    },
    "language_info": {
      "name": "python"
    }
  },
  "cells": [
    {
      "cell_type": "markdown",
      "metadata": {
        "id": "view-in-github",
        "colab_type": "text"
      },
      "source": [
        "<a href=\"https://colab.research.google.com/github/H34H/ProjectEuler/blob/main/0084_monopoly_odds.ipynb\" target=\"_parent\"><img src=\"https://colab.research.google.com/assets/colab-badge.svg\" alt=\"Open In Colab\"/></a>"
      ]
    },
    {
      "cell_type": "code",
      "execution_count": 24,
      "metadata": {
        "colab": {
          "base_uri": "https://localhost:8080/"
        },
        "id": "xfKTFJFBCZe2",
        "outputId": "e1cd8d56-e384-4036-d0e8-13e28a3fbd93"
      },
      "outputs": [
        {
          "output_type": "stream",
          "name": "stdout",
          "text": [
            "JAIL \t 7.01%\n",
            "R2 \t 3.60%\n",
            "E3 \t 3.27%\n",
            "D1 \t 3.23%\n",
            "R3 \t 3.11%\n",
            "D3 \t 3.06%\n",
            "E1 \t 3.05%\n",
            "FP \t 3.00%\n",
            "E2 \t 2.99%\n",
            "D2 \t 2.97%\n",
            "R1 \t 2.90%\n",
            "C3 \t 2.90%\n",
            "U2 \t 2.84%\n",
            "G1 \t 2.81%\n",
            "GO \t 2.78%\n",
            "F3 \t 2.74%\n",
            "CC2 \t 2.69%\n",
            "F1 \t 2.64%\n",
            "G2  \t 2.59%\n",
            "F2 \t 2.55%\n",
            "C2 \t 2.52%\n",
            "H2 \t 2.48%\n",
            "C1 \t 2.45%\n",
            "U1 \t 2.42%\n",
            "T1 \t 2.29%\n",
            "CC3 \t 2.21%\n",
            "G3 \t 2.19%\n",
            "B2 \t 2.12%\n",
            "H1 \t 2.12%\n",
            "B3 \t 2.11%\n",
            "B1 \t 2.09%\n",
            "T2 \t 2.08%\n",
            "A2 \t 2.03%\n",
            "R4 \t 1.98%\n",
            "A1 \t 1.77%\n",
            "CC1 \t 1.71%\n",
            "CH2 \t 1.09%\n",
            "CH3 \t 0.81%\n",
            "CH1 \t 0.80%\n",
            "101524\n",
            "37\n",
            "0:00:33.995119\n"
          ]
        }
      ],
      "source": [
        "import datetime\n",
        "import os\n",
        "from math import inf, lcm, log10, sqrt\n",
        "from collections import Counter\n",
        "\n",
        "import random\n",
        "time = datetime.datetime.now()\n",
        "\n",
        "def nextMove(currentPos, instruction):\n",
        "    if instruction == 'Advance to GO':\n",
        "      return 0\n",
        "    elif instruction == 'Go to JAIL':\n",
        "      return 10\n",
        "    elif instruction == 'Go to E3':\n",
        "      return 24\n",
        "    elif instruction == 'Go to C1':\n",
        "      return 11\n",
        "    elif instruction == 'Go to H2':\n",
        "      return 39\n",
        "    elif instruction == 'Go to R1':\n",
        "      return 5\n",
        "    elif instruction == 'Go to next R':\n",
        "      return (((currentPos+5)//10)*10+5)%40\n",
        "    elif instruction == 'Go to next U':\n",
        "      if currentPos > 12 and currentPos < 28:\n",
        "        return 28\n",
        "      else:\n",
        "        return 12\n",
        "    elif instruction == 'Go back 3 squares':\n",
        "      return (currentPos-3)%40\n",
        "    else:\n",
        "      return currentPos\n",
        "\n",
        "def throwDice():\n",
        "  return random.randint(1,4)\n",
        "\n",
        "board = {0:'GO',1:'A1',2:'CC1',3:'A2',4:'T1',5:'R1',6:'B1',7:'CH1',8:'B2',9:'B3',10:'JAIL',11:'C1',12:'U1',13:'C2',14:'C3',15:'R2',16:'D1',17:'CC2',18:'D2',19:'D3',20:'FP',21:'E1',22:'CH2',23:'E2',24:'E3',25:'R3',26:'F1',27:'F2',28:'U2',29:'F3',30:'G2J',31:'G1',32:'G2 ',33:'CC3',34:'G3',35:'R4',36:'CH3',37:'H1',38:'T2',39:'H2'\n",
        "}\n",
        "communityChest = {1:'Advance to GO', 0:'Go to JAIL'}\n",
        "communityChestOrder = list(range(16))\n",
        "chance = {1:'Advance to GO',2:'Go to JAIL',3:'Go to C1',4:'Go to E3',5:'Go to H2',6:'Go to R1',7:'Go to next R',8:'Go to next R',9:'Go to next U',0:'Go back 3 squares'}\n",
        "chanceOrder = list(range(16))\n",
        "random.shuffle(chanceOrder)\n",
        "random.shuffle(communityChestOrder)\n",
        "\n",
        "position = 0\n",
        "chanceCardNr = 10\n",
        "communityChestCardnr = 10\n",
        "doubleDice = 0\n",
        "\n",
        "for i in range(10**7):\n",
        "    dice1 = throwDice()\n",
        "    dice2 = throwDice()\n",
        "    if dice1 == dice2:\n",
        "      doubleDice +=1\n",
        "    else:\n",
        "      doubleDice = 0\n",
        "    if doubleDice == 3:\n",
        "      position = 10\n",
        "      doubleDice = 0\n",
        "    else:\n",
        "      position = (position + dice1 + dice2)\n",
        "      if position%40 in [7, 22, 36]: #Chance\n",
        "        if chanceCardNr%16 in chance:\n",
        "          position = nextMove(position%40, chance[chanceCardNr%16])\n",
        "        chanceCardNr +=1\n",
        "      elif position%40 in [2, 17, 33]: #communityChest\n",
        "        if communityChestCardnr%16 in communityChest:\n",
        "          position = nextMove(position%40, communityChest[communityChestCardnr%16])\n",
        "        communityChestCardnr +=1\n",
        "      if board[position%40] == 'G2J':\n",
        "        position = 10\n",
        "    stats[position%40] += 1\n",
        "\n",
        "results = sorted(stats.items(), key=lambda x: x[1], reverse=True)\n",
        "[print(f\"{board[k%40]} \\t {v/sum(stats.values()):.2%}\") for k,v in results]\n",
        "\n",
        "print (results[0][0]*10000 + results[1][0]*100 + results[2][0])\n",
        "print (-3%40)\n",
        "runtime  = datetime.datetime.now() - time\n",
        "print (runtime)\n"
      ]
    },
    {
      "cell_type": "markdown",
      "source": [],
      "metadata": {
        "id": "KGMJSvPbChIn"
      }
    }
  ]
}